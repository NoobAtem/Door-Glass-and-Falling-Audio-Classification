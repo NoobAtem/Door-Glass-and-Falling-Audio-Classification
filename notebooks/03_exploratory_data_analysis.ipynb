{
 "cells": [
  {
   "cell_type": "markdown",
   "id": "1aa6b2b2-5158-4182-8bb0-d69a0076df72",
   "metadata": {},
   "source": [
    "## Objective of the Notebook\n",
    "(NoobAtem) Make sure that the audio are process using Understanding what data are we working on is an essential process, that would generate a better understanding on the state of quality that we are feeding the model as training and validation sets. The follow goals is listed bellow."
   ]
  }
 ],
 "metadata": {
  "kernelspec": {
   "display_name": "Python 3 (ipykernel)",
   "language": "python",
   "name": "python3"
  },
  "language_info": {
   "codemirror_mode": {
    "name": "ipython",
    "version": 3
   },
   "file_extension": ".py",
   "mimetype": "text/x-python",
   "name": "python",
   "nbconvert_exporter": "python",
   "pygments_lexer": "ipython3",
   "version": "3.10.12"
  }
 },
 "nbformat": 4,
 "nbformat_minor": 5
}
