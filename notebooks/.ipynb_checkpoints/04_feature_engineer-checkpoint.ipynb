{
 "cells": [
  {
   "cell_type": "markdown",
   "id": "72063c41-c2c0-46c9-b823-0875d1f40b8c",
   "metadata": {},
   "source": [
    "## Objective of the Notebook\n",
    "(NoobAtem) After cleaning and understanding the current dataset we've collected. We are now in the stage on extracting features essential to generating our sets. We will undercover this methods and techniques that will defined what would the model use for its training and validation. The summary as follows:\n",
    "- Variety of Spectogram Techniques\n",
    "- Zero Crossing Rate\n",
    "- Spectral Centroid\n",
    "- Spectral Bandwidth\n",
    "- Spectal Constrant\n",
    "- Polynomial\n",
    "- Root Mean Square (RMS)\n",
    "- Mel Frequency Cepstral Coefficients"
   ]
  },
  {
   "cell_type": "code",
   "execution_count": null,
   "id": "4543adb8-2fda-40fb-9fc8-fe832ab80bf8",
   "metadata": {},
   "outputs": [],
   "source": []
  }
 ],
 "metadata": {
  "kernelspec": {
   "display_name": "Python 3 (ipykernel)",
   "language": "python",
   "name": "python3"
  },
  "language_info": {
   "codemirror_mode": {
    "name": "ipython",
    "version": 3
   },
   "file_extension": ".py",
   "mimetype": "text/x-python",
   "name": "python",
   "nbconvert_exporter": "python",
   "pygments_lexer": "ipython3",
   "version": "3.10.12"
  }
 },
 "nbformat": 4,
 "nbformat_minor": 5
}
