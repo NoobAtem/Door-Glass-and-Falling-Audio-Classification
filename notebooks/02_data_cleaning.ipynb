{
 "cells": [
  {
   "cell_type": "markdown",
   "id": "f57ce5b7-9be4-4c92-bf32-1fa70284c270",
   "metadata": {},
   "source": [
    "## Objective of the Notebook\n",
    "(NoobAtem) After downloading all files and collecting the necessary data to our raw folder, were going to proceed on cleaning the audio. There are standards were going to follow when handling variety of audio source. Known techniques would apply and thus the summary of the notebook is listed\n",
    "* Resampling\n",
    "* Trimming\n",
    "* Silence Removal\n",
    "* Noise Reduction\n",
    "* Filtering"
   ]
  },
  {
   "cell_type": "markdown",
   "id": "f1cdb383-beaf-41cb-983e-66f44d587783",
   "metadata": {},
   "source": [
    "### Prerequisite Libraries"
   ]
  },
  {
   "cell_type": "code",
   "execution_count": 5,
   "id": "281bcc02-2533-4832-9c6a-df3e9fcaf27d",
   "metadata": {},
   "outputs": [],
   "source": [
    "import librosa\n",
    "import librosa.display\n",
    "import numpy\n",
    "import os\n",
    "import yaml\n",
    "import pandas as pd"
   ]
  },
  {
   "cell_type": "markdown",
   "id": "290b3dff-9c6b-4727-bfac-c064f08f1326",
   "metadata": {},
   "source": [
    "### Define Relevant Paths"
   ]
  },
  {
   "cell_type": "code",
   "execution_count": 7,
   "id": "2b124478-8b66-48ce-8267-151fc2fc10f8",
   "metadata": {},
   "outputs": [],
   "source": [
    "# The main parent folder for handling in all sorts of data\n",
    "DATA_P: str = \"../data\"\n",
    "\n",
    "RAW_P: str = os.path.join(DATA_P, \"raw\") # Data that we've formatted and designed/collected\n",
    "EXTERN_P: str = os.path.join(DATA_P, \"external\") # 3rd party dataset\n",
    "INTERIM_P: str = os.path.join(DATA_P, \"interim\") # Dataset that is being process and its under commission\n",
    "PROCESS_P: str = os.path.join(DATA_P, \"processed\") # Processed data ready to be used\n",
    "\n",
    "# The main parent for handling configs\n",
    "CONFIG_P: str = \"../configs\"\n",
    "\n",
    "DATA_CONF_P: str = os.path.join(CONFIG_P, \"dataset_config.yaml\")\n",
    "config: dict = None\n",
    "with open(DATA_CONF_P, \"r\") as yml_file:\n",
    "    config = yaml.safe_load(yml_file)"
   ]
  },
  {
   "cell_type": "markdown",
   "id": "cbbbe988-f580-4ff5-8cb7-028e1e4567b7",
   "metadata": {},
   "source": [
    "### Transforming Data"
   ]
  },
  {
   "cell_type": "code",
   "execution_count": null,
   "id": "79e28e4f-ce79-47ba-89d7-165e70928638",
   "metadata": {},
   "outputs": [],
   "source": []
  }
 ],
 "metadata": {
  "kernelspec": {
   "display_name": "Python 3 (ipykernel)",
   "language": "python",
   "name": "python3"
  },
  "language_info": {
   "codemirror_mode": {
    "name": "ipython",
    "version": 3
   },
   "file_extension": ".py",
   "mimetype": "text/x-python",
   "name": "python",
   "nbconvert_exporter": "python",
   "pygments_lexer": "ipython3",
   "version": "3.10.12"
  }
 },
 "nbformat": 4,
 "nbformat_minor": 5
}
